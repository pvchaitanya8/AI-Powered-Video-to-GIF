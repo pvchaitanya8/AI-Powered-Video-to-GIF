{
 "cells": [
  {
   "cell_type": "markdown",
   "metadata": {},
   "source": [
    "# Imports"
   ]
  },
  {
   "cell_type": "code",
   "execution_count": null,
   "metadata": {},
   "outputs": [],
   "source": [
    "video_path = \"V1.mp4\""
   ]
  },
  {
   "cell_type": "code",
   "execution_count": 1,
   "metadata": {},
   "outputs": [],
   "source": [
    "import os\n",
    "\n",
    "from textwrap import dedent\n",
    "import moviepy.editor as mp\n",
    "import speech_recognition as sr\n",
    "\n",
    "from langchain_groq import ChatGroq\n",
    "from crewai import Agent, Task, Process, Crew\n"
   ]
  },
  {
   "cell_type": "markdown",
   "metadata": {},
   "source": [
    "# Functions"
   ]
  },
  {
   "cell_type": "markdown",
   "metadata": {},
   "source": [
    "## Getting Text From Audio"
   ]
  },
  {
   "cell_type": "code",
   "execution_count": 2,
   "metadata": {},
   "outputs": [],
   "source": [
    "# Function to transcribe video to text\n",
    "def transcribe_video(video_path):\n",
    "    recognizer = sr.Recognizer()\n",
    "    \n",
    "    # Extract audio from video\n",
    "    video = mp.VideoFileClip(video_path)\n",
    "    audio_path = \"temp_audio.wav\"\n",
    "    video.audio.write_audiofile(audio_path)\n",
    "    \n",
    "    transcript = \"\"\n",
    "    try:\n",
    "        with sr.AudioFile(audio_path) as source:\n",
    "            audio = recognizer.record(source)\n",
    "        # Transcribe audio to text\n",
    "        transcript = recognizer.recognize_google(audio)\n",
    "    except sr.UnknownValueError:\n",
    "        transcript = \"Google Speech Recognition could not understand audio\"\n",
    "    except sr.RequestError as e:\n",
    "        transcript = f\"Could not request results from Google Speech Recognition service; {e}\"\n",
    "    finally:\n",
    "        # Clean up the temporary audio file\n",
    "        if os.path.exists(audio_path):\n",
    "            os.remove(audio_path)\n",
    "    \n",
    "    return transcript"
   ]
  },
  {
   "cell_type": "markdown",
   "metadata": {},
   "source": [
    "## Getting captions from LLM"
   ]
  },
  {
   "cell_type": "code",
   "execution_count": null,
   "metadata": {},
   "outputs": [],
   "source": [
    "GROQ_API_KEY = \"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\"\n",
    "Text_Input = \"\"\"I love you Grand rising good Vibes to all status I'm ok happy Monday Happy Tuesday happy Wednesday happy Thursday happy Friday and a good New Year everyone\"\"\"\n",
    "LLM_Model = \"llama3-70b-8192\"\n",
    "def create_gif_caption_identifier_task(api_key, model, text_input):\n",
    "    \n",
    "    # Initialize the LLM\n",
    "    LLM_Grouq = ChatGroq(\n",
    "        api_key=api_key,\n",
    "        model=model\n",
    "    )\n",
    "\n",
    "    # Create the GIF Caption Finder agent\n",
    "    GIF_caption_identifier = Agent(\n",
    "        role=\"GIF Caption Finder\",\n",
    "        goal=\"Identify sentences that can be used as text over GIFs\",\n",
    "        backstory=dedent(\"\"\"\\\n",
    "            You're a GIF caption expert tasked with identifying sentences that are ideal for adding text overlays to GIFs. \n",
    "            Your role is crucial in selecting text fragments that convey impactful and memorable messages to enhance the visual appeal and communication of the GIFs. \n",
    "            Your task is to carefully read the provided text and list all sentences that are suitable for GIF captions, ensuring they are concise, relevant, and engaging.\n",
    "        \"\"\"),\n",
    "        verbose=True,\n",
    "        allow_delegation=True,\n",
    "        llm=LLM_Grouq,\n",
    "        memory=True,\n",
    "    )\n",
    "\n",
    "    # TASK\n",
    "    GIF_caption_identifier_Task = Task(\n",
    "        description=dedent(f\"\"\"\\\n",
    "            **INPUT:**\n",
    "                * **Text:**\n",
    "                    {text_input}\n",
    "            **TASK:**\n",
    "                Identify sentences within the text that can be used as captions for GIFs. ENSURE THE SELECTED SENTENCES ARE EXACTLY AS IN THE INPUT TEXT. NO SINGLE WORD OR LETTER SHOULD BE DIFFERENT OR NEW, and the sentences should be impactful and contextually appropriate for a GIF.\n",
    "\n",
    "            **OUTPUT:**\n",
    "                Output the selected sentences as a JSON object, with each sentence being a separate entry.\n",
    "            \n",
    "            **EXAMPLE OUTPUT:**\n",
    "                {{\n",
    "                    \"captions\": [\n",
    "                        \"This is a perfect moment!\",\n",
    "                        \"I can't believe this is happening.\",\n",
    "                        \"Let's make this unforgettable.\"\n",
    "                    ]\n",
    "                }}\n",
    "        \"\"\"),\n",
    "        agent=GIF_caption_identifier,\n",
    "        expected_output=dedent(\"\"\"\\\n",
    "            {\n",
    "                \"captions\": [\n",
    "                    \"Sentence 1\",\n",
    "                    \"Sentence 2\",\n",
    "                    ...\n",
    "                    \"Sentence n\"\n",
    "                ]\n",
    "            }\n",
    "        \"\"\"),\n",
    "        async_execution=False\n",
    "    )\n",
    "\n",
    "    crew = Crew(\n",
    "        agents=[GIF_caption_identifier],\n",
    "        tasks=[GIF_caption_identifier_Task],\n",
    "        verbose=2,\n",
    "        process=Process.sequential,\n",
    "    )\n",
    "\n",
    "    return crew\n"
   ]
  },
  {
   "cell_type": "markdown",
   "metadata": {},
   "source": [
    "# Test"
   ]
  },
  {
   "cell_type": "code",
   "execution_count": 3,
   "metadata": {},
   "outputs": [
    {
     "name": "stdout",
     "output_type": "stream",
     "text": [
      "MoviePy - Writing audio in temp_audio.wav\n"
     ]
    },
    {
     "name": "stderr",
     "output_type": "stream",
     "text": [
      "                                                                     \r"
     ]
    },
    {
     "name": "stdout",
     "output_type": "stream",
     "text": [
      "MoviePy - Done.\n",
      "I love you Grand rising good Vibes to all status I'm ok happy Monday Happy Tuesday happy Wednesday happy Thursday happy Friday and a good New Year everyone\n"
     ]
    }
   ],
   "source": [
    "print(transcribe_video(\"V1.mp4\"))"
   ]
  }
 ],
 "metadata": {
  "kernelspec": {
   "display_name": "Python 3",
   "language": "python",
   "name": "python3"
  },
  "language_info": {
   "codemirror_mode": {
    "name": "ipython",
    "version": 3
   },
   "file_extension": ".py",
   "mimetype": "text/x-python",
   "name": "python",
   "nbconvert_exporter": "python",
   "pygments_lexer": "ipython3",
   "version": "3.12.3"
  }
 },
 "nbformat": 4,
 "nbformat_minor": 2
}
