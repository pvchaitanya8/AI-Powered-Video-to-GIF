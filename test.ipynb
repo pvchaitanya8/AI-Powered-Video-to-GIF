{
 "cells": [
  {
   "cell_type": "markdown",
   "metadata": {},
   "source": [
    "# Imports"
   ]
  },
  {
   "cell_type": "code",
   "execution_count": 1,
   "metadata": {},
   "outputs": [],
   "source": [
    "import os\n",
    "import openai\n",
    "\n",
    "import tkinter as tk\n",
    "from tkinter import filedialog\n",
    "import speech_recognition as sr\n",
    "\n",
    "import moviepy.editor as mp\n",
    "from moviepy.video.VideoClip import TextClip"
   ]
  },
  {
   "cell_type": "markdown",
   "metadata": {},
   "source": [
    "# Functions"
   ]
  },
  {
   "cell_type": "code",
   "execution_count": null,
   "metadata": {},
   "outputs": [],
   "source": [
    "# Function to transcribe video to text\n",
    "def transcribe_video(video_path):\n",
    "    recognizer = sr.Recognizer()\n",
    "    \n",
    "    # Extract audio from video\n",
    "    video = mp.VideoFileClip(video_path)\n",
    "    audio_path = \"temp_audio.wav\"\n",
    "    video.audio.write_audiofile(audio_path)\n",
    "    \n",
    "    transcript = \"\"\n",
    "    try:\n",
    "        with sr.AudioFile(audio_path) as source:\n",
    "            audio = recognizer.record(source)\n",
    "        # Transcribe audio to text\n",
    "        transcript = recognizer.recognize_google(audio)\n",
    "    except sr.UnknownValueError:\n",
    "        transcript = \"Google Speech Recognition could not understand audio\"\n",
    "    except sr.RequestError as e:\n",
    "        transcript = f\"Could not request results from Google Speech Recognition service; {e}\"\n",
    "    finally:\n",
    "        # Clean up the temporary audio file\n",
    "        if os.path.exists(audio_path):\n",
    "            os.remove(audio_path)\n",
    "    \n",
    "    return transcript"
   ]
  },
  {
   "cell_type": "code",
   "execution_count": null,
   "metadata": {},
   "outputs": [],
   "source": [
    "# Function to identify GIF materials using OpenAI GPT\n",
    "def identify_gif_material(transcript, openai_api_key):\n",
    "    openai.api_key = openai_api_key\n",
    "    response = openai.Completion.create(\n",
    "        engine=\"text-davinci-003\",\n",
    "        prompt=f\"Identify potential GIF materials from the transcript:\\n\\n{transcript}\",\n",
    "        max_tokens=150\n",
    "    )\n",
    "    return response.choices[0].text.strip().split('\\n')"
   ]
  },
  {
   "cell_type": "code",
   "execution_count": null,
   "metadata": {},
   "outputs": [],
   "source": [
    "# Function to create GIFs\n",
    "def create_gifs(video_path, gif_materials):\n",
    "    video = mp.VideoFileClip(video_path)\n",
    "    gifs = []\n",
    "    for i, text in enumerate(gif_materials):\n",
    "        text_clip = TextClip(text, fontsize=70, color='white', size=video.size)\n",
    "        text_clip = text_clip.set_position('center').set_duration(5)\n",
    "        gif_clip = mp.CompositeVideoClip([video, text_clip])\n",
    "        gif_path = f\"output_{i}.gif\"\n",
    "        gif_clip.write_gif(gif_path)\n",
    "        gifs.append(gif_path)\n",
    "    return gifs"
   ]
  },
  {
   "cell_type": "code",
   "execution_count": null,
   "metadata": {},
   "outputs": [],
   "source": [
    "# Function to browse and select a video file\n",
    "def browse_file():\n",
    "    file_path = filedialog.askopenfilename(filetypes=[(\"Video Files\", \"*.mp4 *.avi *.mov\")])\n",
    "    if file_path:\n",
    "        video_path.set(file_path)"
   ]
  },
  {
   "cell_type": "code",
   "execution_count": null,
   "metadata": {},
   "outputs": [],
   "source": [
    "# Function to start the GIF generation process\n",
    "def generate_gifs():\n",
    "    video_file = video_path.get()\n",
    "    api_key = openai_api_key.get()\n",
    "    transcript = transcribe_video(video_file)\n",
    "    gif_materials = identify_gif_material(transcript, api_key)\n",
    "    gifs = create_gifs(video_file, gif_materials)\n",
    "    result_label.config(text=f\"GIFs created: {', '.join(gifs)}\")"
   ]
  },
  {
   "cell_type": "code",
   "execution_count": null,
   "metadata": {},
   "outputs": [],
   "source": [
    "# GUI setup\n",
    "root = tk.Tk()\n",
    "root.title(\"GIF Generator\")\n",
    "\n",
    "tk.Label(root, text=\"Select Video File:\").grid(row=0, column=0, padx=10, pady=10)\n",
    "video_path = tk.StringVar()\n",
    "tk.Entry(root, textvariable=video_path, width=50).grid(row=0, column=1, padx=10, pady=10)\n",
    "tk.Button(root, text=\"Browse\", command=browse_file).grid(row=0, column=2, padx=10, pady=10)\n",
    "\n",
    "tk.Label(root, text=\"OpenAI API Key:\").grid(row=1, column=0, padx=10, pady=10)\n",
    "openai_api_key = tk.StringVar()\n",
    "tk.Entry(root, textvariable=openai_api_key, width=50).grid(row=1, column=1, padx=10, pady=10)\n",
    "\n",
    "tk.Button(root, text=\"Generate GIFs\", command=generate_gifs).grid(row=2, column=0, columnspan=3, padx=10, pady=10)\n",
    "\n",
    "result_label = tk.Label(root, text=\"\")\n",
    "result_label.grid(row=3, column=0, columnspan=3, padx=10, pady=10)\n",
    "\n",
    "root.mainloop()"
   ]
  },
  {
   "cell_type": "code",
   "execution_count": null,
   "metadata": {},
   "outputs": [],
   "source": [
    "print('TEST')"
   ]
  }
 ],
 "metadata": {
  "kernelspec": {
   "display_name": "Python 3",
   "language": "python",
   "name": "python3"
  },
  "language_info": {
   "codemirror_mode": {
    "name": "ipython",
    "version": 3
   },
   "file_extension": ".py",
   "mimetype": "text/x-python",
   "name": "python",
   "nbconvert_exporter": "python",
   "pygments_lexer": "ipython3",
   "version": "3.12.3"
  }
 },
 "nbformat": 4,
 "nbformat_minor": 2
}
